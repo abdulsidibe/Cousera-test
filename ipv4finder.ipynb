{
  "nbformat": 4,
  "nbformat_minor": 0,
  "metadata": {
    "colab": {
      "provenance": [],
      "authorship_tag": "ABX9TyN4/O4i4cqTtvFmTRv5av99",
      "include_colab_link": true
    },
    "kernelspec": {
      "name": "python3",
      "display_name": "Python 3"
    },
    "language_info": {
      "name": "python"
    }
  },
  "cells": [
    {
      "cell_type": "markdown",
      "metadata": {
        "id": "view-in-github",
        "colab_type": "text"
      },
      "source": [
        "<a href=\"https://colab.research.google.com/github/abdulsidibe/Cousera-test/blob/master/ipv4finder.ipynb\" target=\"_parent\"><img src=\"https://colab.research.google.com/assets/colab-badge.svg\" alt=\"Open In Colab\"/></a>"
      ]
    },
    {
      "cell_type": "code",
      "execution_count": 51,
      "metadata": {
        "id": "y1FyRjRhAjUK"
      },
      "outputs": [],
      "source": [
        "import re\n",
        "\n",
        "with open('tcpdump.txt', 'r') as f:\n",
        "    data = f.read()\n"
      ]
    },
    {
      "cell_type": "code",
      "source": [
        "pattern = re.compile('\\\\d{1,3}\\\\.\\\\d{1,3}\\\\.\\\\d{1,3}\\\\.\\\\d{1,3}')\n",
        "ipv4 = pattern.findall(data)\n",
        "ipv4.sort()\n"
      ],
      "metadata": {
        "id": "Wg_mQwW1Bhk2"
      },
      "execution_count": 47,
      "outputs": []
    },
    {
      "cell_type": "code",
      "source": [
        "count = 0\n",
        "for i in ipv4:\n",
        "  if i == '10.103.0.6':\n",
        "    count += 1\n",
        "\n",
        "count"
      ],
      "metadata": {
        "colab": {
          "base_uri": "https://localhost:8080/"
        },
        "id": "yc9EVZnxKF28",
        "outputId": "9ecedf25-2aaf-4b61-86d9-cb5481291cb6"
      },
      "execution_count": 50,
      "outputs": [
        {
          "output_type": "execute_result",
          "data": {
            "text/plain": [
              "421"
            ]
          },
          "metadata": {},
          "execution_count": 50
        }
      ]
    }
  ]
}